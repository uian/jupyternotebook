{
 "cells": [
  {
   "cell_type": "code",
   "execution_count": 19,
   "metadata": {},
   "outputs": [
    {
     "name": "stdout",
     "output_type": "stream",
     "text": [
      "Help on package pip:\n",
      "\n",
      "NAME\n",
      "    pip\n",
      "\n",
      "PACKAGE CONTENTS\n",
      "    __main__\n",
      "    _internal (package)\n",
      "    _vendor (package)\n",
      "\n",
      "VERSION\n",
      "    19.3.1\n",
      "\n",
      "FILE\n",
      "    /usr/local/lib/python3.7/site-packages/pip/__init__.py\n",
      "\n",
      "\n"
     ]
    },
    {
     "data": {
      "text/plain": [
       "False"
      ]
     },
     "execution_count": 19,
     "metadata": {},
     "output_type": "execute_result"
    }
   ],
   "source": [
    "import pip \n",
    "# from pip._internal import main\n",
    "dir(pip)\n",
    "help(pip)\n",
    "\n",
    "hasattr(pip,'name')"
   ]
  },
  {
   "cell_type": "code",
   "execution_count": 6,
   "metadata": {},
   "outputs": [
    {
     "data": {
      "text/plain": [
       "'/usr/local/lib/python3.7/site-packages/pip/__init__.py'"
      ]
     },
     "execution_count": 6,
     "metadata": {},
     "output_type": "execute_result"
    }
   ],
   "source": [
    "pip.__file__"
   ]
  },
  {
   "cell_type": "code",
   "execution_count": 7,
   "metadata": {},
   "outputs": [
    {
     "data": {
      "text/plain": [
       "'19.3.1'"
      ]
     },
     "execution_count": 7,
     "metadata": {},
     "output_type": "execute_result"
    }
   ],
   "source": [
    "pip.__version__"
   ]
  },
  {
   "cell_type": "code",
   "execution_count": 8,
   "metadata": {},
   "outputs": [
    {
     "data": {
      "text/plain": [
       "<module 'pip._internal' from '/usr/local/lib/python3.7/site-packages/pip/_internal/__init__.py'>"
      ]
     },
     "execution_count": 8,
     "metadata": {},
     "output_type": "execute_result"
    }
   ],
   "source": [
    "pip._internal"
   ]
  },
  {
   "cell_type": "code",
   "execution_count": 17,
   "metadata": {},
   "outputs": [
    {
     "name": "stdout",
     "output_type": "stream",
     "text": [
      "Help on module pip._internal.main in pip._internal:\n",
      "\n",
      "NAME\n",
      "    pip._internal.main - Primary application entrypoint.\n",
      "\n",
      "FUNCTIONS\n",
      "    main(args=None)\n",
      "\n",
      "DATA\n",
      "    absolute_import = _Feature((2, 5, 0, 'alpha', 1), (3, 0, 0, 'alpha', 0...\n",
      "    logger = <Logger pip._internal.main (WARNING)>\n",
      "\n",
      "FILE\n",
      "    /usr/local/lib/python3.7/site-packages/pip/_internal/main.py\n",
      "\n",
      "\n"
     ]
    }
   ],
   "source": [
    "help(pip._internal.main)"
   ]
  },
  {
   "cell_type": "code",
   "execution_count": 12,
   "metadata": {},
   "outputs": [
    {
     "data": {
      "text/plain": [
       "<module 'pip._vendor' from '/usr/local/lib/python3.7/site-packages/pip/_vendor/__init__.py'>"
      ]
     },
     "execution_count": 12,
     "metadata": {},
     "output_type": "execute_result"
    }
   ],
   "source": [
    "pip._vendor"
   ]
  },
  {
   "cell_type": "code",
   "execution_count": 13,
   "metadata": {},
   "outputs": [
    {
     "data": {
      "text/plain": [
       "<module 'pip._vendor.packaging' from '/usr/local/lib/python3.7/site-packages/pip/_vendor/packaging/__init__.py'>"
      ]
     },
     "execution_count": 13,
     "metadata": {},
     "output_type": "execute_result"
    }
   ],
   "source": [
    "pip._vendor.packaging"
   ]
  },
  {
   "cell_type": "code",
   "execution_count": 14,
   "metadata": {},
   "outputs": [
    {
     "name": "stdout",
     "output_type": "stream",
     "text": [
      "Help on package pip._vendor in pip:\n",
      "\n",
      "NAME\n",
      "    pip._vendor\n",
      "\n",
      "DESCRIPTION\n",
      "    pip._vendor is for vendoring dependencies of pip to prevent needing pip to\n",
      "    depend on something external.\n",
      "    \n",
      "    Files inside of pip._vendor should be considered immutable and should only be\n",
      "    updated to versions from upstream.\n",
      "\n",
      "PACKAGE CONTENTS\n",
      "    appdirs\n",
      "    cachecontrol (package)\n",
      "    certifi (package)\n",
      "    chardet (package)\n",
      "    colorama (package)\n",
      "    contextlib2\n",
      "    distlib (package)\n",
      "    distro\n",
      "    html5lib (package)\n",
      "    idna (package)\n",
      "    ipaddress\n",
      "    msgpack (package)\n",
      "    packaging (package)\n",
      "    pep517 (package)\n",
      "    pkg_resources (package)\n",
      "    progress (package)\n",
      "    pyparsing\n",
      "    pytoml (package)\n",
      "    requests (package)\n",
      "    retrying\n",
      "    six\n",
      "    urllib3 (package)\n",
      "    webencodings (package)\n",
      "\n",
      "FUNCTIONS\n",
      "    vendored(modulename)\n",
      "        # Define a small helper function to alias our vendored modules to the real ones\n",
      "        # if the vendored ones do not exist. This idea of this was taken from\n",
      "        # https://github.com/kennethreitz/requests/pull/2567.\n",
      "\n",
      "DATA\n",
      "    DEBUNDLED = False\n",
      "    WHEEL_DIR = '/usr/local/lib/python3.7/site-packages/pip/_vendor'\n",
      "    absolute_import = _Feature((2, 5, 0, 'alpha', 1), (3, 0, 0, 'alpha', 0...\n",
      "\n",
      "FILE\n",
      "    /usr/local/lib/python3.7/site-packages/pip/_vendor/__init__.py\n",
      "\n",
      "\n"
     ]
    }
   ],
   "source": [
    "help(pip._vendor)"
   ]
  },
  {
   "cell_type": "code",
   "execution_count": null,
   "metadata": {},
   "outputs": [],
   "source": []
  }
 ],
 "metadata": {
  "kernelspec": {
   "display_name": "Python 3",
   "language": "python",
   "name": "python3"
  },
  "language_info": {
   "codemirror_mode": {
    "name": "ipython",
    "version": 3
   },
   "file_extension": ".py",
   "mimetype": "text/x-python",
   "name": "python",
   "nbconvert_exporter": "python",
   "pygments_lexer": "ipython3",
   "version": "3.7.5"
  }
 },
 "nbformat": 4,
 "nbformat_minor": 2
}
