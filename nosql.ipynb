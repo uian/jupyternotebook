{
 "cells": [
  {
   "cell_type": "markdown",
   "metadata": {},
   "source": [
    "[MongoDB不再是开源的了，并且已经从Homebrew中移除](https://segmentfault.com/a/1190000020400235?utm_source=tag-newest)"
   ]
  },
  {
   "cell_type": "markdown",
   "metadata": {},
   "source": [
    "[mongodb在mac sudo mkdir -p /data/db 时提示 Read-only file system](https://www.cnblogs.com/HoverM/p/11897638.html)\n",
    "*~=/users/uian*\n",
    "\n",
    "mkdir ~/data  \n",
    "\n",
    "mongod --dbpath ~/data\n"
   ]
  },
  {
   "cell_type": "code",
   "execution_count": 24,
   "metadata": {},
   "outputs": [
    {
     "name": "stdout",
     "output_type": "stream",
     "text": [
      "['test0', 'test1', 'test2', 'test3', 'test4', 'test5', 'test6', 'test7', 'test8', 'test9']\n"
     ]
    }
   ],
   "source": [
    "data = [\"test{}\".format(i) for i in range(10)] \n",
    "print (data)\n",
    "    \n",
    "#()代表tuple元组数据类型，元组是一种不可变序列\n",
    "#[]是list {}是dictionary"
   ]
  },
  {
   "cell_type": "code",
   "execution_count": 2,
   "metadata": {},
   "outputs": [],
   "source": [
    "import sys\n",
    "#sys.path.append(\"/usr/local/lib/python3.7/site-packages/\")\n",
    "sys.path\n",
    "# 或者加入了mypkpath.pth文件，这样python就会寻找其他路径安装的包\n",
    "# pip安装的是一个路径，而python寻找的包路径不包括，就出错了\n"
   ]
  },
  {
   "cell_type": "code",
   "execution_count": 13,
   "metadata": {},
   "outputs": [],
   "source": [
    "import pymongo\n",
    "conn = pymongo.MongoClient()\n",
    "db = conn.test.test1000\n"
   ]
  },
  {
   "cell_type": "code",
   "execution_count": 14,
   "metadata": {},
   "outputs": [
    {
     "data": {
      "text/plain": [
       "{'_id': ObjectId('5de5dd035eae4c811f7c7c67'),\n",
       " 'GPS': {'GPSLongitude': 1.0, 'GPSLatitude': 2.0}}"
      ]
     },
     "execution_count": 14,
     "metadata": {},
     "output_type": "execute_result"
    }
   ],
   "source": [
    "db.find_one()"
   ]
  },
  {
   "cell_type": "code",
   "execution_count": null,
   "metadata": {},
   "outputs": [],
   "source": []
  }
 ],
 "metadata": {
  "kernelspec": {
   "display_name": "Python 3",
   "language": "python",
   "name": "python3"
  },
  "language_info": {
   "codemirror_mode": {
    "name": "ipython",
    "version": 3
   },
   "file_extension": ".py",
   "mimetype": "text/x-python",
   "name": "python",
   "nbconvert_exporter": "python",
   "pygments_lexer": "ipython3",
   "version": "3.7.3"
  }
 },
 "nbformat": 4,
 "nbformat_minor": 2
}
