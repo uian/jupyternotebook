{
 "cells": [
  {
   "cell_type": "markdown",
   "metadata": {},
   "source": [
    "安装npm JavaScript，为了使用百度地图的JavaScript\n",
    "\n",
    "替换及重置Homebrew默认源\n",
    "替换brew.git:\n",
    "cd \"$(brew --repo)\"\n",
    "git remote set-url origin https://mirrors.ustc.edu.cn/brew.git\n",
    "\n",
    "替换homebrew-core.git:\n",
    "cd \"$(brew --repo)/Library/Taps/homebrew/homebrew-core\"\n",
    "git remote set-url origin https://mirrors.ustc.edu.cn/homebrew-core.git\n",
    "替换Homebrew Bottles源: 参考:替换Homebrew Bottles源\n",
    "\n",
    "在中科大源失效或宕机时可以： 1. 使用清华源设置参考。 2. 切换回官方源：\n",
    "\n",
    "重置brew.git:\n",
    "cd \"$(brew --repo)\"\n",
    "git remote set-url origin https://github.com/Homebrew/brew.git\n",
    "\n",
    "重置homebrew-core.git:\n",
    "cd \"$(brew --repo)/Library/Taps/homebrew/homebrew-core\"\n",
    "git remote set-url origin https://github.com/Homebrew/homebrew-core.git\n",
    "注释掉bash配置文件里的有关Homebrew Bottles即可恢复官方源。 重启bash或让bash重读配置文件。\n",
    "\n",
    "http://npm.taobao.org"
   ]
  }
 ],
 "metadata": {
  "kernelspec": {
   "display_name": "Python 3",
   "language": "python",
   "name": "python3"
  },
  "language_info": {
   "codemirror_mode": {
    "name": "ipython",
    "version": 3
   },
   "file_extension": ".py",
   "mimetype": "text/x-python",
   "name": "python",
   "nbconvert_exporter": "python",
   "pygments_lexer": "ipython3",
   "version": "3.7.5"
  }
 },
 "nbformat": 4,
 "nbformat_minor": 2
}
