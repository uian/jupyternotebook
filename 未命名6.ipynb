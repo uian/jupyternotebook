{
 "cells": [
  {
   "cell_type": "markdown",
   "metadata": {},
   "source": [
    "``` swift\n",
    "enum CompassDirection: CaseIterable {\n",
    "    case north, south, east, west\n",
    "}\n",
    "//\n",
    "//如何目录右键加入jupyternotebook\n",
    "print(\"There are \\(CompassDirection.allCases.count) directions.\")\n",
    "// Prints \"There are 4 directions.\"\n",
    "let caseList = CompassDirection.allCases\n",
    "                               .map({ \"\\($0)\" })\n",
    "                               .joined(separator: \", \")\n",
    "// caseList == \"north, south, east, west\"\n",
    "```"
   ]
  },
  {
   "cell_type": "markdown",
   "metadata": {},
   "source": [
    "# 对CaseIterable的思考\n",
    "\n",
    "第一个疑问：：caseiterable 后怎么就可以使用allcases这个属性\n",
    "            编译器自动进行了实现\n",
    "            \n",
    "第二个疑问： 哪些性质的变量可以conform to\n",
    "\n",
    "            Value of type '[String]' does not conform to specified type 'CaseIterable'\n",
    "            \n",
    "            Types that conform to the CaseIterable protocol are typically enumerations(枚举) without associated values"
   ]
  },
  {
   "cell_type": "code",
   "execution_count": null,
   "metadata": {},
   "outputs": [],
   "source": []
  }
 ],
 "metadata": {
  "kernelspec": {
   "display_name": "Python 3",
   "language": "python",
   "name": "python3"
  },
  "language_info": {
   "codemirror_mode": {
    "name": "ipython",
    "version": 3
   },
   "file_extension": ".py",
   "mimetype": "text/x-python",
   "name": "python",
   "nbconvert_exporter": "python",
   "pygments_lexer": "ipython3",
   "version": "3.7.5"
  }
 },
 "nbformat": 4,
 "nbformat_minor": 2
}
