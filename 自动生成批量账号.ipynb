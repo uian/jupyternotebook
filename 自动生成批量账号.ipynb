{
 "cells": [
  {
   "cell_type": "code",
   "execution_count": 50,
   "metadata": {},
   "outputs": [
    {
     "name": "stdout",
     "output_type": "stream",
     "text": [
      "用户名：tt\n",
      "数量：6\n",
      "tt01,tt02,tt03,tt04,tt05,"
     ]
    }
   ],
   "source": [
    "Username = input('用户名：')\n",
    "amount = input(\"数量：\")\n",
    "for i in range(1,int(amount)):\n",
    "    print (Username + str(i).zfill(2) + \",\",end = '') #zfill 是在数字字符前加零\n",
    "    \n",
    "\n",
    " "
   ]
  },
  {
   "cell_type": "code",
   "execution_count": 60,
   "metadata": {},
   "outputs": [
    {
     "data": {
      "text/plain": [
       "[range(0, 10)]"
      ]
     },
     "execution_count": 60,
     "metadata": {},
     "output_type": "execute_result"
    }
   ],
   "source": [
    "  [range(10) ]"
   ]
  },
  {
   "cell_type": "code",
   "execution_count": 66,
   "metadata": {},
   "outputs": [
    {
     "name": "stdout",
     "output_type": "stream",
     "text": [
      "<generator object <genexpr> at 0x10aadc048>\n"
     ]
    }
   ],
   "source": [
    "print( \"{}\".format(i) for i in range(10))\n",
    "#['0', '1', '2', '3', '4', '5', '6', '7', '8', '9']\n",
    "#[i for i in range(5,10)]\n",
    "#[0, 1, 2, 3, 4, 5, 6, 7, 8, 9]\n"
   ]
  },
  {
   "cell_type": "code",
   "execution_count": 56,
   "metadata": {},
   "outputs": [
    {
     "name": "stdout",
     "output_type": "stream",
     "text": [
      "usr 01\n"
     ]
    },
    {
     "data": {
      "text/plain": [
       "range(0, 10)"
      ]
     },
     "execution_count": 56,
     "metadata": {},
     "output_type": "execute_result"
    }
   ],
   "source": [
    "Username = \"usr\"\n",
    "print (\"{} {}\".format(Username,\"1\".zfill(2)))\n",
    "[Username + \"{}\".zfill(4).format(i) for i in range(1,20b\n",
    "{\"{}\".format(i) for i in range(10)}\n",
    "\n",
    "\n"
   ]
  },
  {
   "cell_type": "code",
   "execution_count": 80,
   "metadata": {},
   "outputs": [
    {
     "data": {
      "text/plain": [
       "'3.14'"
      ]
     },
     "execution_count": 80,
     "metadata": {},
     "output_type": "execute_result"
    }
   ],
   "source": [
    "#[format(i) for i in range(1,4)]\n",
    "\"{:.2f}\".format(3.1415926)\n",
    "# 列表解析"
   ]
  },
  {
   "cell_type": "markdown",
   "metadata": {},
   "source": [
    "```python\n",
    "print (Username + str(i).zfill(2) + \",\",end = '').format(i) for i in range(1,int(amount))\n",
    "```\n",
    "构成出错了，\n",
    "\n",
    "# 分析：\n",
    "- 首先是要有一个字符串，有变量参与构成字符串,变量占位符是{}\n"
   ]
  },
  {
   "cell_type": "markdown",
   "metadata": {},
   "source": [
    "# 使用 *getpass.getpass** 不回显输入的隐私信息\n",
    " \n",
    "## 代码\n",
    "```bash\n",
    "[root@room1pc01 data]# cat login2.py \n",
    "```\n",
    "\n",
    "```python\n",
    "#!/usr/bin/env python2.6\n",
    "import getpass\n",
    " \n",
    " \n",
    "username = raw_input('username:')\n",
    "password = getpass.getpass('password:')\n",
    " \n",
    "if username == 'bob':\n",
    " if password == '123456':\n",
    " print 'Login success.'\n",
    " else:\n",
    " print 'Your password error.'\n",
    "else:\n",
    " print 'Your username error.'\n",
    " ```\n",
    " \n",
    "## 运行效果\n",
    "```bash\n",
    "[root@room1pc01 data]# python login2.py\n",
    "username:bob\n",
    "password: ##密码没有在屏幕上回显，私密信息得到保障\n",
    "Login success.\n",
    "\n",
    "\n",
    "```\n",
    "\n",
    "![markdown语法表](markdown_syntax.png)\n",
    "\n"
   ]
  },
  {
   "cell_type": "code",
   "execution_count": null,
   "metadata": {},
   "outputs": [],
   "source": []
  },
  {
   "cell_type": "code",
   "execution_count": null,
   "metadata": {},
   "outputs": [],
   "source": [
    "\n"
   ]
  }
 ],
 "metadata": {
  "kernelspec": {
   "display_name": "Python 3",
   "language": "python",
   "name": "python3"
  },
  "language_info": {
   "codemirror_mode": {
    "name": "ipython",
    "version": 3
   },
   "file_extension": ".py",
   "mimetype": "text/x-python",
   "name": "python",
   "nbconvert_exporter": "python",
   "pygments_lexer": "ipython3",
   "version": "3.7.5"
  }
 },
 "nbformat": 4,
 "nbformat_minor": 2
}
