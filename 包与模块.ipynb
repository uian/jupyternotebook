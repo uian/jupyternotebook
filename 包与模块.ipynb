{
 "cells": [
  {
   "cell_type": "code",
   "execution_count": null,
   "metadata": {},
   "outputs": [],
   "source": [
    "一个包（package）就是放在一个文件夹里的模块集合\n",
    "模块是非常简单的Python文件，单个Python文件就是一个模块，两个文件就是两个模块。"
   ]
  },
  {
   "cell_type": "code",
   "execution_count": 2,
   "metadata": {},
   "outputs": [
    {
     "ename": "ImportError",
     "evalue": "cannot import name 'Geo' from 'pyecharts' (/usr/local/lib/python3.7/site-packages/pyecharts/__init__.py)",
     "output_type": "error",
     "traceback": [
      "\u001b[0;31m---------------------------------------------------------------------------\u001b[0m",
      "\u001b[0;31mImportError\u001b[0m                               Traceback (most recent call last)",
      "\u001b[0;32m<ipython-input-2-9566586d215d>\u001b[0m in \u001b[0;36m<module>\u001b[0;34m\u001b[0m\n\u001b[0;32m----> 1\u001b[0;31m \u001b[0;32mfrom\u001b[0m \u001b[0mpyecharts\u001b[0m \u001b[0;32mimport\u001b[0m \u001b[0mGeo\u001b[0m\u001b[0;34m\u001b[0m\u001b[0;34m\u001b[0m\u001b[0m\n\u001b[0m",
      "\u001b[0;31mImportError\u001b[0m: cannot import name 'Geo' from 'pyecharts' (/usr/local/lib/python3.7/site-packages/pyecharts/__init__.py)"
     ]
    }
   ],
   "source": [
    "from pyecharts import charts"
   ]
  },
  {
   "cell_type": "code",
   "execution_count": 24,
   "metadata": {},
   "outputs": [
    {
     "name": "stdout",
     "output_type": "stream",
     "text": [
      "Help on package pyecharts.charts in pyecharts:\n",
      "\n",
      "NAME\n",
      "    pyecharts.charts - # basic Charts\n",
      "\n",
      "PACKAGE CONTENTS\n",
      "    base\n",
      "    basic_charts (package)\n",
      "    chart\n",
      "    composite_charts (package)\n",
      "    mixins\n",
      "    three_axis_charts (package)\n",
      "\n",
      "FILE\n",
      "    /usr/local/lib/python3.7/site-packages/pyecharts/charts/__init__.py\n",
      "\n",
      "\n"
     ]
    }
   ],
   "source": [
    "help(pyecharts.charts)"
   ]
  },
  {
   "cell_type": "code",
   "execution_count": 21,
   "metadata": {},
   "outputs": [
    {
     "data": {
      "text/plain": [
       "['BMap',\n",
       " 'Bar',\n",
       " 'Bar3D',\n",
       " 'Boxplot',\n",
       " 'Calendar',\n",
       " 'Candlestick',\n",
       " 'EffectScatter',\n",
       " 'Funnel',\n",
       " 'Gauge',\n",
       " 'Geo',\n",
       " 'Graph',\n",
       " 'Grid',\n",
       " 'HeatMap',\n",
       " 'Kline',\n",
       " 'Line',\n",
       " 'Line3D',\n",
       " 'Liquid',\n",
       " 'Map',\n",
       " 'Map3D',\n",
       " 'MapGlobe',\n",
       " 'Page',\n",
       " 'Parallel',\n",
       " 'PictorialBar',\n",
       " 'Pie',\n",
       " 'Polar',\n",
       " 'Radar',\n",
       " 'Sankey',\n",
       " 'Scatter',\n",
       " 'Scatter3D',\n",
       " 'Sunburst',\n",
       " 'Surface3D',\n",
       " 'Tab',\n",
       " 'ThemeRiver',\n",
       " 'Timeline',\n",
       " 'Tree',\n",
       " 'TreeMap',\n",
       " 'WordCloud',\n",
       " '__builtins__',\n",
       " '__cached__',\n",
       " '__doc__',\n",
       " '__file__',\n",
       " '__loader__',\n",
       " '__name__',\n",
       " '__package__',\n",
       " '__path__',\n",
       " '__spec__',\n",
       " 'base',\n",
       " 'basic_charts',\n",
       " 'chart',\n",
       " 'composite_charts',\n",
       " 'mixins',\n",
       " 'three_axis_charts']"
      ]
     },
     "execution_count": 21,
     "metadata": {},
     "output_type": "execute_result"
    }
   ],
   "source": [
    "dir(pyecharts.charts.)"
   ]
  },
  {
   "cell_type": "code",
   "execution_count": 19,
   "metadata": {},
   "outputs": [
    {
     "name": "stdout",
     "output_type": "stream",
     "text": [
      "Help on class Geo in module pyecharts.charts.basic_charts.geo:\n",
      "\n",
      "class Geo(GeoChartBase)\n",
      " |  Geo(init_opts: Union[pyecharts.options.global_options.InitOpts, dict] = <pyecharts.options.global_options.InitOpts object at 0x103ed7730>)\n",
      " |  \n",
      " |  <<< geo coordinate system >>>\n",
      " |  \n",
      " |  support scatter plot and line\n",
      " |  \n",
      " |  Method resolution order:\n",
      " |      Geo\n",
      " |      GeoChartBase\n",
      " |      pyecharts.charts.chart.Chart\n",
      " |      pyecharts.charts.base.Base\n",
      " |      pyecharts.charts.mixins.ChartMixin\n",
      " |      builtins.object\n",
      " |  \n",
      " |  Methods defined here:\n",
      " |  \n",
      " |  __init__(self, init_opts: Union[pyecharts.options.global_options.InitOpts, dict] = <pyecharts.options.global_options.InitOpts object at 0x103ed7730>)\n",
      " |      Initialize self.  See help(type(self)) for accurate signature.\n",
      " |  \n",
      " |  add_schema(self, maptype: str = 'china', is_roam: bool = True, zoom: Union[int, float, NoneType] = None, center: Union[Sequence, NoneType] = None, label_opts: Union[pyecharts.options.series_options.LabelOpts, dict, NoneType] = None, itemstyle_opts: Union[pyecharts.options.series_options.ItemStyleOpts, dict, NoneType] = None, emphasis_itemstyle_opts: Union[pyecharts.options.series_options.ItemStyleOpts, dict, NoneType] = None, emphasis_label_opts: Union[pyecharts.options.series_options.LabelOpts, dict, NoneType] = None)\n",
      " |  \n",
      " |  ----------------------------------------------------------------------\n",
      " |  Methods inherited from GeoChartBase:\n",
      " |  \n",
      " |  add(self, series_name: str, data_pair: Sequence, type_: str = 'scatter', *, is_selected: bool = True, symbol: Union[str, NoneType] = None, symbol_size: Union[int, float] = 12, blur_size: Union[int, float] = 20, point_size: Union[int, float] = 20, color: Union[str, NoneType] = None, is_polyline: bool = False, is_large: bool = False, large_threshold: Union[int, float] = 2000, progressive: Union[int, float] = 400, progressive_threshold: Union[int, float] = 3000, label_opts: Union[pyecharts.options.series_options.LabelOpts, dict, NoneType] = <pyecharts.options.series_options.LabelOpts object at 0x103ed7410>, effect_opts: Union[pyecharts.options.series_options.EffectOpts, dict, NoneType] = <pyecharts.options.series_options.EffectOpts object at 0x103ed74b0>, linestyle_opts: Union[pyecharts.options.series_options.LineStyleOpts, dict, NoneType] = <pyecharts.options.series_options.LineStyleOpts object at 0x103ed7550>, tooltip_opts: Union[pyecharts.options.global_options.TooltipOpts, dict, NoneType] = None, itemstyle_opts: Union[pyecharts.options.series_options.ItemStyleOpts, dict, NoneType] = None)\n",
      " |  \n",
      " |  add_coordinate(self, name: str, longitude: Union[int, float], latitude: Union[int, float])\n",
      " |  \n",
      " |  add_coordinate_json(self, json_file: str)\n",
      " |  \n",
      " |  get_coordinate(self, name: str) -> Union[Sequence, NoneType]\n",
      " |  \n",
      " |  ----------------------------------------------------------------------\n",
      " |  Methods inherited from pyecharts.charts.chart.Chart:\n",
      " |  \n",
      " |  set_colors(self, colors: Sequence[str])\n",
      " |  \n",
      " |  set_global_opts(self, title_opts: Union[pyecharts.options.global_options.TitleOpts, dict] = <pyecharts.options.global_options.TitleOpts object at 0x103ec5d20>, legend_opts: Union[pyecharts.options.global_options.LegendOpts, dict] = <pyecharts.options.global_options.LegendOpts object at 0x103ed0780>, tooltip_opts: Union[pyecharts.options.global_options.TooltipOpts, dict, NoneType] = None, toolbox_opts: Union[pyecharts.options.global_options.ToolboxOpts, dict] = None, brush_opts: Union[pyecharts.options.global_options.BrushOpts, dict, NoneType] = None, xaxis_opts: Union[pyecharts.options.global_options.AxisOpts, dict, NoneType] = None, yaxis_opts: Union[pyecharts.options.global_options.AxisOpts, dict, NoneType] = None, visualmap_opts: Union[pyecharts.options.global_options.VisualMapOpts, dict, Sequence[Union[pyecharts.options.global_options.VisualMapOpts, dict]], NoneType] = None, datazoom_opts: Union[pyecharts.options.global_options.DataZoomOpts, dict, Sequence[Union[pyecharts.options.global_options.DataZoomOpts, dict]], NoneType] = None, graphic_opts: Union[pyecharts.options.charts_options.BaseGraphic, dict, Sequence[Union[pyecharts.options.charts_options.BaseGraphic, dict]], NoneType] = None, axispointer_opts: Union[pyecharts.options.global_options.AxisPointerOpts, dict, NoneType] = None)\n",
      " |  \n",
      " |  set_series_opts(self, label_opts: Union[pyecharts.options.series_options.LabelOpts, dict, NoneType] = None, linestyle_opts: Union[pyecharts.options.series_options.LineStyleOpts, dict, NoneType] = None, splitline_opts: Union[pyecharts.options.series_options.SplitLineOpts, dict, NoneType] = None, areastyle_opts: Union[pyecharts.options.series_options.AreaStyleOpts, dict, NoneType] = None, axisline_opts: Union[pyecharts.options.global_options.AxisLineOpts, dict, NoneType] = None, markpoint_opts: Union[pyecharts.options.series_options.MarkPointOpts, dict, NoneType] = None, markline_opts: Union[pyecharts.options.series_options.MarkLineOpts, dict, NoneType] = None, markarea_opts: Union[pyecharts.options.series_options.MarkAreaOpts, dict, NoneType] = None, effect_opts: Union[pyecharts.options.series_options.EffectOpts, dict, NoneType] = <pyecharts.options.series_options.EffectOpts object at 0x103ec5280>, tooltip_opts: Union[pyecharts.options.global_options.TooltipOpts, dict, NoneType] = None, itemstyle_opts: Union[pyecharts.options.series_options.ItemStyleOpts, dict, NoneType] = None, **kwargs)\n",
      " |  \n",
      " |  ----------------------------------------------------------------------\n",
      " |  Methods inherited from pyecharts.charts.base.Base:\n",
      " |  \n",
      " |  dump_options(self) -> str\n",
      " |  \n",
      " |  dump_options_with_quotes(self) -> str\n",
      " |  \n",
      " |  get_options(self) -> dict\n",
      " |  \n",
      " |  render(self, path: str = 'render.html', template_name: str = 'simple_chart.html', env: Union[jinja2.environment.Environment, NoneType] = None, **kwargs) -> str\n",
      " |  \n",
      " |  render_embed(self, template_name: str = 'simple_chart.html', env: Union[jinja2.environment.Environment, NoneType] = None, **kwargs) -> str\n",
      " |  \n",
      " |  render_notebook(self)\n",
      " |  \n",
      " |  ----------------------------------------------------------------------\n",
      " |  Methods inherited from pyecharts.charts.mixins.ChartMixin:\n",
      " |  \n",
      " |  add_js_funcs(self, *fns)\n",
      " |  \n",
      " |  load_javascript(self)\n",
      " |  \n",
      " |  ----------------------------------------------------------------------\n",
      " |  Data descriptors inherited from pyecharts.charts.mixins.ChartMixin:\n",
      " |  \n",
      " |  __dict__\n",
      " |      dictionary for instance variables (if defined)\n",
      " |  \n",
      " |  __weakref__\n",
      " |      list of weak references to the object (if defined)\n",
      "\n"
     ]
    }
   ],
   "source": [
    "help(pyecharts.charts)"
   ]
  },
  {
   "cell_type": "code",
   "execution_count": 18,
   "metadata": {},
   "outputs": [],
   "source": [
    " from pyecharts.charts import Bar"
   ]
  },
  {
   "cell_type": "code",
   "execution_count": 15,
   "metadata": {},
   "outputs": [
    {
     "data": {
      "text/plain": [
       "'chenjiandongx'"
      ]
     },
     "execution_count": 15,
     "metadata": {},
     "output_type": "execute_result"
    }
   ],
   "source": [
    "import pyecharts\n",
    "dir(pyecharts)\n",
    "from pyecharts.globals.\n",
    "__author__"
   ]
  },
  {
   "cell_type": "code",
   "execution_count": null,
   "metadata": {},
   "outputs": [],
   "source": []
  }
 ],
 "metadata": {
  "kernelspec": {
   "display_name": "Python 3",
   "language": "python",
   "name": "python3"
  },
  "language_info": {
   "codemirror_mode": {
    "name": "ipython",
    "version": 3
   },
   "file_extension": ".py",
   "mimetype": "text/x-python",
   "name": "python",
   "nbconvert_exporter": "python",
   "pygments_lexer": "ipython3",
   "version": "3.7.5"
  }
 },
 "nbformat": 4,
 "nbformat_minor": 2
}
