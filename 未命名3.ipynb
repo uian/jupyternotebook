{
 "cells": [
  {
   "cell_type": "code",
   "execution_count": 2,
   "metadata": {},
   "outputs": [
    {
     "data": {
      "text/plain": [
       "undefined"
      ]
     },
     "execution_count": 2,
     "metadata": {},
     "output_type": "execute_result"
    }
   ],
   "source": [
    "var option = {\n",
    "            title:{\n",
    "                text:'ECharts 数据统计'\n",
    "            },            \n",
    "            series:[{\n",
    "                name:'访问量',\n",
    "                type:'pie',    \n",
    "                radius:'60%', \n",
    "                data:[\n",
    "                    {value:500,name:'Android'},\n",
    "                    {value:200,name:'IOS'},\n",
    "                    {value:360,name:'PC'},\n",
    "                    {value:100,name:'Ohter'}\n",
    "                ]\n",
    "            }]\n",
    "        };"
   ]
  },
  {
   "cell_type": "code",
   "execution_count": null,
   "metadata": {},
   "outputs": [],
   "source": []
  }
 ],
 "metadata": {
  "kernelspec": {
   "display_name": "Javascript (Node.js)",
   "language": "javascript",
   "name": "javascript"
  },
  "language_info": {
   "file_extension": ".js",
   "mimetype": "application/javascript",
   "name": "javascript",
   "version": "13.2.0"
  }
 },
 "nbformat": 4,
 "nbformat_minor": 2
}
